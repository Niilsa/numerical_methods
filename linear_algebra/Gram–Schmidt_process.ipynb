{
 "cells": [
  {
   "cell_type": "code",
   "execution_count": 20,
   "metadata": {},
   "outputs": [],
   "source": [
    "import numpy as np\n",
    "import numpy.linalg as la\n",
    "\n",
    "def gsBasis(A) :\n",
    "    B = np.array(A, dtype=np.float_)\n",
    "    for i in range(B.shape[1]) :\n",
    "        for j in range(i) :\n",
    "            B[:, i] -= B[:, i] @ B[:, j] * B[:, j]\n",
    "        if la.norm(B[:, i]) > 1e-14:\n",
    "            B[:, i] = B[:, i] / la.norm(B[:, i])\n",
    "        else :\n",
    "            B[:, i] = np.zeros_like(B[:, i])\n",
    "    return B\n",
    "\n",
    "def dimensions(A) :\n",
    "    return np.sum(la.norm(gsBasis(A), axis=0))"
   ]
  }
 ],
 "metadata": {
  "kernelspec": {
   "display_name": "Python 3",
   "language": "python",
   "name": "python3"
  },
  "language_info": {
   "codemirror_mode": {
    "name": "ipython",
    "version": 3
   },
   "file_extension": ".py",
   "mimetype": "text/x-python",
   "name": "python",
   "nbconvert_exporter": "python",
   "pygments_lexer": "ipython3",
   "version": "3.7.6"
  }
 },
 "nbformat": 4,
 "nbformat_minor": 1
}
